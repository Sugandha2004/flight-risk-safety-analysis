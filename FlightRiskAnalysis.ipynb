{
 "cells": [
  {
   "cell_type": "code",
   "execution_count": 4,
   "id": "1c839317-9e0d-4566-a302-05738c3126e1",
   "metadata": {},
   "outputs": [],
   "source": [
    "import pandas as pd\n",
    "import numpy as np"
   ]
  },
  {
   "cell_type": "code",
   "execution_count": 6,
   "id": "39f053f5-c141-4da8-a989-2917b7a237dc",
   "metadata": {},
   "outputs": [
    {
     "name": "stdout",
     "output_type": "stream",
     "text": [
      "   index        Date   Time                            Location  \\\n",
      "0      0  09/17/1908  17:18                 Fort Myer, Virginia   \n",
      "1      1  07/12/1912  06:30             AtlantiCity, New Jersey   \n",
      "2      2  08/06/1913    NaN  Victoria, British Columbia, Canada   \n",
      "3      3  09/09/1913  18:30                  Over the North Sea   \n",
      "4      4  10/17/1913  10:30          Near Johannisthal, Germany   \n",
      "\n",
      "                 Operator Flight #          Route                    Type  \\\n",
      "0    Military - U.S. Army      NaN  Demonstration        Wright Flyer III   \n",
      "1    Military - U.S. Navy      NaN    Test flight               Dirigible   \n",
      "2                 Private        -            NaN        Curtiss seaplane   \n",
      "3  Military - German Navy      NaN            NaN  Zeppelin L-1 (airship)   \n",
      "4  Military - German Navy      NaN            NaN  Zeppelin L-2 (airship)   \n",
      "\n",
      "  Registration cn/In  Aboard  Fatalities  Ground  \\\n",
      "0          NaN     1     2.0         1.0     0.0   \n",
      "1          NaN   NaN     5.0         5.0     0.0   \n",
      "2          NaN   NaN     1.0         1.0     0.0   \n",
      "3          NaN   NaN    20.0        14.0     0.0   \n",
      "4          NaN   NaN    30.0        30.0     0.0   \n",
      "\n",
      "                                             Summary  \n",
      "0  During a demonstration flight, a U.S. Army fly...  \n",
      "1  First U.S. dirigible Akron exploded just offsh...  \n",
      "2  The first fatal airplane accident in Canada oc...  \n",
      "3  The airship flew into a thunderstorm and encou...  \n",
      "4  Hydrogen gas which was being vented was sucked...  \n",
      "Index(['index', 'Date', 'Time', 'Location', 'Operator', 'Flight #', 'Route',\n",
      "       'Type', 'Registration', 'cn/In', 'Aboard', 'Fatalities', 'Ground',\n",
      "       'Summary'],\n",
      "      dtype='object')\n"
     ]
    }
   ],
   "source": [
    "df=pd.read_csv(\"Airplane_Crashes_and_Fatalities_Since_1908.csv\")\n",
    "print(df.head())\n",
    "print(df.columns)"
   ]
  },
  {
   "cell_type": "code",
   "execution_count": 8,
   "id": "83ac297b-1c79-4063-9599-889aa4a810bd",
   "metadata": {},
   "outputs": [],
   "source": [
    "df['Date']=pd.to_datetime(df['Date'],errors='coerce')\n",
    "df=df.dropna(subset=['Date','Location','Fatalities'])"
   ]
  },
  {
   "cell_type": "code",
   "execution_count": 10,
   "id": "95001a00-60c4-45d7-b629-e41d2fe9dcd7",
   "metadata": {},
   "outputs": [],
   "source": [
    "df.loc[:, 'Operator'] = df['Operator'].fillna('Unknown')\n",
    "df.loc[:, 'Type'] = df['Type'].fillna('Unknown')"
   ]
  },
  {
   "cell_type": "code",
   "execution_count": 12,
   "id": "256ed128-4dae-40ac-9ad7-d8f61d67a045",
   "metadata": {},
   "outputs": [],
   "source": [
    "df.loc[:,'Year'] = df['Date'].dt.year"
   ]
  },
  {
   "cell_type": "code",
   "execution_count": 14,
   "id": "1597e82d-88d9-42bb-82d6-cd80d57cd7a6",
   "metadata": {},
   "outputs": [],
   "source": [
    "fatalities_np = df['Fatalities'].to_numpy()\n",
    "total_fatalities = np.sum(fatalities_np)\n",
    "avg_fatalities = np.mean(fatalities_np)\n",
    "\n",
    "fatality_std = np.std(fatalities_np)\n",
    "high_fatal = df[df['Fatalities'] > 100]"
   ]
  },
  {
   "cell_type": "code",
   "execution_count": null,
   "id": "e189b292-46e6-4a36-a463-f02e66beb6b8",
   "metadata": {},
   "outputs": [],
   "source": []
  }
 ],
 "metadata": {
  "kernelspec": {
   "display_name": "Python 3 (ipykernel)",
   "language": "python",
   "name": "python3"
  },
  "language_info": {
   "codemirror_mode": {
    "name": "ipython",
    "version": 3
   },
   "file_extension": ".py",
   "mimetype": "text/x-python",
   "name": "python",
   "nbconvert_exporter": "python",
   "pygments_lexer": "ipython3",
   "version": "3.12.7"
  }
 },
 "nbformat": 4,
 "nbformat_minor": 5
}
